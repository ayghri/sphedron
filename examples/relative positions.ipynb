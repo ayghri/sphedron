{
 "cells": [
  {
   "cell_type": "code",
   "execution_count": 17,
   "id": "998190f7-a17c-4701-a0eb-87a93f037e8a",
   "metadata": {},
   "outputs": [],
   "source": [
    "from sphedron import Icosphere, StratifiedIcospheres\n",
    "from sphedron.utils import transform as sphetr\n",
    "import numpy as np\n",
    "from scipy.spatial import transform"
   ]
  },
  {
   "cell_type": "code",
   "execution_count": 18,
   "id": "6d5e727f-6919-445d-8818-7a0673455878",
   "metadata": {},
   "outputs": [
    {
     "name": "stdout",
     "output_type": "stream",
     "text": [
      "Mesh has:                \n",
      "\t #vertices: 40962                \n",
      "\t #faces: 88740,                \n",
      "\t #edges: 266220,                \n",
      "\t #edges_unique: 133110,                \n",
      "\tmeta: {'depths': array([ 1,  2,  4,  8, 16, 64])}\n"
     ]
    }
   ],
   "source": [
    "# icos = Icosphere(depth=4)\n",
    "icos =StratifiedIcospheres(factors=[1,2,2,2,2,4])\n",
    "print(icos)"
   ]
  },
  {
   "cell_type": "code",
   "execution_count": 19,
   "id": "9cb91d01-2c13-4582-85de-e3ba8ff60ff2",
   "metadata": {},
   "outputs": [],
   "source": [
    "def get_rotation_matrices_to_local_coordinates(\n",
    "    reference_phi: np.ndarray,\n",
    "    reference_theta: np.ndarray,\n",
    "    rotate_latitude: bool,\n",
    "    rotate_longitude: bool) -> np.ndarray:\n",
    "\n",
    "  if rotate_longitude and rotate_latitude:\n",
    "\n",
    "    # We first rotate around the z axis \"minus the azimuthal angle\", to get the\n",
    "    # point with zero longitude\n",
    "    azimuthal_rotation = - reference_phi\n",
    "\n",
    "    # One then we will do a polar rotation (which can be done along the y\n",
    "    # axis now that we are at longitude 0.), \"minus the polar angle plus 2pi\"\n",
    "    # to get the point with zero latitude.\n",
    "    polar_rotation = - reference_theta + np.pi/2\n",
    "\n",
    "    return transform.Rotation.from_euler(\n",
    "        \"zy\", np.stack([azimuthal_rotation, polar_rotation],\n",
    "                       axis=1)).as_matrix()\n",
    "  elif rotate_longitude:\n",
    "    # Just like the previous case, but applying only the azimuthal rotation.\n",
    "    azimuthal_rotation = - reference_phi\n",
    "    return transform.Rotation.from_euler(\"z\", -reference_phi).as_matrix()\n",
    "  elif rotate_latitude:\n",
    "    # Just like the first case, but after doing the polar rotation, undoing\n",
    "    # the azimuthal rotation.\n",
    "    azimuthal_rotation = - reference_phi\n",
    "    polar_rotation = - reference_theta + np.pi/2\n",
    "\n",
    "    return transform.Rotation.from_euler(\n",
    "        \"zyz\", np.stack(\n",
    "            [azimuthal_rotation, polar_rotation, -azimuthal_rotation]\n",
    "            , axis=1)).as_matrix()\n",
    "  else:\n",
    "    raise ValueError(\n",
    "        \"At least one of longitude and latitude should be rotated.\")\n",
    "\n",
    "def latlong_to_phitheta(latlong: np.ndarray) -> np.ndarray:\n",
    "  phi = np.deg2rad(latlong[:,[1]])\n",
    "  theta = np.deg2rad(90 - latlong[:,[0]])\n",
    "  return np.c_[phi,theta]\n",
    "    \n",
    "def spherical_to_cartesian(\n",
    "    phi: np.ndarray, theta: np.ndarray\n",
    "    ):\n",
    "  # Assuming unit radius.\n",
    "  return np.array([np.cos(phi)*np.sin(theta),\n",
    "          np.sin(phi)*np.sin(theta),\n",
    "          np.cos(theta)]).T"
   ]
  },
  {
   "cell_type": "code",
   "execution_count": 20,
   "id": "0737052a-f28b-41b5-a361-a1555fe86d22",
   "metadata": {},
   "outputs": [],
   "source": [
    "latlong = icos.vertices_latlong"
   ]
  },
  {
   "cell_type": "code",
   "execution_count": 21,
   "id": "b81051ac-d55c-4b95-89ab-13ee11cf2c30",
   "metadata": {},
   "outputs": [],
   "source": [
    "phitheta = latlong_to_phitheta(latlong)"
   ]
  },
  {
   "cell_type": "code",
   "execution_count": 22,
   "id": "1c15c4de-5522-40fa-80cb-f60a263e9983",
   "metadata": {},
   "outputs": [],
   "source": [
    "phitheta_sender = phitheta[icos.edges_unique[:,0]]\n",
    "pos_sender = icos.vertices[icos.edges_unique[:,0]]\n",
    "phitheta_receiver = phitheta[icos.edges_unique[:,1]]\n",
    "pos_receiver = icos.vertices[icos.edges_unique[:,1]]"
   ]
  },
  {
   "cell_type": "code",
   "execution_count": 23,
   "id": "73689838-6377-4ee0-9048-7ec814ea9cc4",
   "metadata": {},
   "outputs": [],
   "source": [
    "thetaphi = sphetr.latlong_to_thetaphi(icos.vertices_latlong)"
   ]
  },
  {
   "cell_type": "code",
   "execution_count": 24,
   "id": "26fc6449-a367-4e48-acaf-166e3f6550c3",
   "metadata": {},
   "outputs": [
    {
     "data": {
      "text/plain": [
       "np.float64(0.0)"
      ]
     },
     "execution_count": 24,
     "metadata": {},
     "output_type": "execute_result"
    }
   ],
   "source": [
    "np.linalg.norm(thetaphi[:,::-1]-phitheta)"
   ]
  },
  {
   "cell_type": "code",
   "execution_count": 25,
   "id": "315efa2f-7ca4-4275-83fc-3a2c40231459",
   "metadata": {},
   "outputs": [],
   "source": [
    "def rotate_with_matrices(rotation_matrices: np.ndarray, positions: np.ndarray\n",
    "                         ) -> np.ndarray:\n",
    "  return np.einsum(\"bji,bi->bj\", rotation_matrices, positions)"
   ]
  },
  {
   "cell_type": "code",
   "execution_count": 32,
   "id": "c19ea173-cbfd-4b89-a300-4877ce709584",
   "metadata": {},
   "outputs": [],
   "source": [
    "rot_mats = get_rotation_matrices_to_local_coordinates(reference_phi=phitheta_receiver[:,0], reference_theta=phitheta_receiver[:,1],\n",
    "                                                      rotate_latitude=True,rotate_longitude=True)"
   ]
  },
  {
   "cell_type": "code",
   "execution_count": 33,
   "id": "1b4c8cbc-7139-4f87-80eb-ddaa399f9bbc",
   "metadata": {},
   "outputs": [],
   "source": [
    "pos = rotate_with_matrices(rot_mats, pos_sender)"
   ]
  },
  {
   "cell_type": "code",
   "execution_count": 34,
   "id": "ba2fe0b5-cfd9-42b2-bc7d-17f015a9fd70",
   "metadata": {},
   "outputs": [],
   "source": [
    "# np.linalg.norm(pos-pos1)"
   ]
  },
  {
   "cell_type": "code",
   "execution_count": 35,
   "id": "47110086-8e2c-4c9d-b498-a29a8a801409",
   "metadata": {},
   "outputs": [
    {
     "data": {
      "text/plain": [
       "array([[ 4.47213595e-01,  1.16735757e-16,  8.94427191e-01],\n",
       "       [ 4.47213595e-01,  2.76393202e-01,  8.50650808e-01],\n",
       "       [ 4.47213595e-01, -2.76393202e-01,  8.50650808e-01],\n",
       "       ...,\n",
       "       [ 9.99793188e-01,  1.93422283e-02,  6.28162730e-03],\n",
       "       [ 9.99850181e-01,  1.40009017e-02, -1.01779791e-02],\n",
       "       [ 9.99850181e-01, -5.34070824e-03, -1.64649124e-02]],\n",
       "      shape=(133110, 3))"
      ]
     },
     "execution_count": 35,
     "metadata": {},
     "output_type": "execute_result"
    }
   ],
   "source": [
    "pos"
   ]
  },
  {
   "cell_type": "code",
   "execution_count": 36,
   "id": "0357362b-f77b-4742-86a0-7b4fbad9055f",
   "metadata": {},
   "outputs": [
    {
     "data": {
      "text/plain": [
       "array([[ 1.00000000e+00, -1.16735757e-16,  1.11022302e-16],\n",
       "       [ 1.00000000e+00,  0.00000000e+00,  0.00000000e+00],\n",
       "       [ 1.00000000e+00,  1.11022302e-16,  0.00000000e+00],\n",
       "       ...,\n",
       "       [ 1.00000000e+00,  0.00000000e+00, -1.00613962e-16],\n",
       "       [ 1.00000000e+00,  0.00000000e+00, -3.46944695e-18],\n",
       "       [ 1.00000000e+00,  0.00000000e+00, -3.46944695e-18]],\n",
       "      shape=(133110, 3))"
      ]
     },
     "execution_count": 36,
     "metadata": {},
     "output_type": "execute_result"
    }
   ],
   "source": [
    "rotate_with_matrices(rot_mats, pos_receiver)"
   ]
  },
  {
   "cell_type": "code",
   "execution_count": 37,
   "id": "63171b72-82d0-4a85-8cc9-7c243e641c24",
   "metadata": {},
   "outputs": [],
   "source": [
    "pos2 = sphetr.senders_xyz_in_receivers_rotation(receivers_thetaphi=phitheta_receiver[:,::-1], senders_xyz=pos_sender,\n",
    "                                                zero_latitude=True, zero_longitude=True)"
   ]
  },
  {
   "cell_type": "code",
   "execution_count": 38,
   "id": "f67ce9e9-8b00-43e4-9713-b0342f251797",
   "metadata": {},
   "outputs": [
    {
     "data": {
      "text/plain": [
       "np.float64(0.0)"
      ]
     },
     "execution_count": 38,
     "metadata": {},
     "output_type": "execute_result"
    }
   ],
   "source": [
    "np.linalg.norm(pos-pos2)"
   ]
  },
  {
   "cell_type": "code",
   "execution_count": 40,
   "id": "e024d570-79ef-4097-970d-6d8201237be9",
   "metadata": {},
   "outputs": [],
   "source": [
    "phi = (1 + np.sqrt(5)) / 2\n",
    "angle_between_faces = 2 * np.arcsin(phi / np.sqrt(3))\n",
    "rotation_angle = (np.pi - angle_between_faces) / 2\n",
    "rotation = transform.Rotation.from_euler(seq=\"y\", angles=rotation_angle)\n",
    "rotation_matrix = rotation.as_matrix()"
   ]
  },
  {
   "cell_type": "code",
   "execution_count": 41,
   "id": "7c1c3011-65e3-4ecb-b26d-2b53b6a70b60",
   "metadata": {},
   "outputs": [
    {
     "data": {
      "text/plain": [
       "array([[ 0.93417236,  0.        ,  0.35682209],\n",
       "       [ 0.        ,  1.        ,  0.        ],\n",
       "       [-0.35682209,  0.        ,  0.93417236]])"
      ]
     },
     "execution_count": 41,
     "metadata": {},
     "output_type": "execute_result"
    }
   ],
   "source": [
    "rotation_matrix"
   ]
  },
  {
   "cell_type": "code",
   "execution_count": 42,
   "id": "0e1f3549-e4f8-4fa5-b404-1746fa746bb3",
   "metadata": {},
   "outputs": [
    {
     "data": {
      "text/plain": [
       "array([[ 0.93417236,  0.        , -0.35682209],\n",
       "       [ 0.        ,  1.        ,  0.        ],\n",
       "       [ 0.35682209,  0.        ,  0.93417236]])"
      ]
     },
     "execution_count": 42,
     "metadata": {},
     "output_type": "execute_result"
    }
   ],
   "source": [
    "rotation_matrix.T"
   ]
  },
  {
   "cell_type": "code",
   "execution_count": null,
   "id": "3523cb01-3838-4289-8f86-4f2cbafd191a",
   "metadata": {},
   "outputs": [],
   "source": []
  }
 ],
 "metadata": {
  "kernelspec": {
   "display_name": "Python 3 (ipykernel)",
   "language": "python",
   "name": "python3"
  },
  "language_info": {
   "codemirror_mode": {
    "name": "ipython",
    "version": 3
   },
   "file_extension": ".py",
   "mimetype": "text/x-python",
   "name": "python",
   "nbconvert_exporter": "python",
   "pygments_lexer": "ipython3",
   "version": "3.12.9"
  },
  "widgets": {
   "application/vnd.jupyter.widget-state+json": {
    "state": {},
    "version_major": 2,
    "version_minor": 0
   }
  }
 },
 "nbformat": 4,
 "nbformat_minor": 5
}
