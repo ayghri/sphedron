{
 "cells": [
  {
   "cell_type": "code",
   "execution_count": 2,
   "id": "222a7183-6a9d-4a49-8762-d45b18f87e48",
   "metadata": {},
   "outputs": [
    {
     "ename": "ModuleNotFoundError",
     "evalue": "No module named 'icomesh'",
     "output_type": "error",
     "traceback": [
      "\u001b[0;31m---------------------------------------------------------------------------\u001b[0m",
      "\u001b[0;31mModuleNotFoundError\u001b[0m                       Traceback (most recent call last)",
      "Cell \u001b[0;32mIn[2], line 1\u001b[0m\n\u001b[0;32m----> 1\u001b[0m \u001b[38;5;28;01mfrom\u001b[39;00m \u001b[38;5;21;01micomesh\u001b[39;00m \u001b[38;5;28;01mimport\u001b[39;00m Icosphere\n\u001b[1;32m      2\u001b[0m \u001b[38;5;28;01mimport\u001b[39;00m \u001b[38;5;21;01mnumpy\u001b[39;00m \u001b[38;5;28;01mas\u001b[39;00m \u001b[38;5;21;01mnp\u001b[39;00m\n",
      "\u001b[0;31mModuleNotFoundError\u001b[0m: No module named 'icomesh'"
     ]
    }
   ],
   "source": [
    "from icomesh import Icosphere\n",
    "import numpy as np"
   ]
  },
  {
   "cell_type": "code",
   "execution_count": 2,
   "id": "f62f23cb-c5ad-4cac-b3c6-832d38d15f32",
   "metadata": {},
   "outputs": [],
   "source": [
    "depth = 32\n",
    "mesh = Icosphere(depth=depth)"
   ]
  },
  {
   "cell_type": "code",
   "execution_count": null,
   "id": "73a1afa1-7f32-47a6-8931-e2f57255815c",
   "metadata": {},
   "outputs": [],
   "source": [
    "n_neighbors = 5\n",
    "lons = np.arange(-180, 180)\n",
    "lats = np.arange(-90, 91)\n",
    "lons_grid, lats_grid = np.meshgrid(lats, lons)\n",
    "uniform_grid = np.stack([lons_grid, lats_grid], axis=-1)\n",
    "print(f\"The uniform latlong grid has {uniform_grid.shape} vertices\")\n",
    "\n",
    "\n",
    "mesh_nearest_vertices, mesh_nearest_distances = mesh.nearest_mesh_vertices(\n",
    "    uniform_grid.reshape(-1, 2), n_neighbors=n_neighbors\n",
    ")\n",
    "print(\n",
    "    f\"Indices of the nearest {n_neighbors} vertices from the Icosphere:\",\n",
    "    mesh_nearest_vertices.reshape(*uniform_grid.shape[:-1], 5).shape,\n",
    "    f\"\\ndistances of the nearest {n_neighbors} vertices from the Icosphere:\",\n",
    "    mesh_nearest_distances.reshape(*uniform_grid.shape[:-1], 5).shape,\n",
    ")"
   ]
  }
 ],
 "metadata": {
  "kernelspec": {
   "display_name": "Python 3 (ipykernel)",
   "language": "python",
   "name": "python3"
  },
  "language_info": {
   "codemirror_mode": {
    "name": "ipython",
    "version": 3
   },
   "file_extension": ".py",
   "mimetype": "text/x-python",
   "name": "python",
   "nbconvert_exporter": "python",
   "pygments_lexer": "ipython3",
   "version": "3.12.8"
  },
  "widgets": {
   "application/vnd.jupyter.widget-state+json": {
    "state": {},
    "version_major": 2,
    "version_minor": 0
   }
  }
 },
 "nbformat": 4,
 "nbformat_minor": 5
}
