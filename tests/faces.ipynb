{
 "cells": [
  {
   "cell_type": "code",
   "execution_count": 1,
   "id": "219aa85c-7c68-456b-998e-7f33597df555",
   "metadata": {},
   "outputs": [],
   "source": [
    "import numpy as np"
   ]
  },
  {
   "cell_type": "code",
   "execution_count": 2,
   "id": "d588a3a1-7cc2-498f-839f-4adb924b9e2e",
   "metadata": {},
   "outputs": [],
   "source": [
    "n = 500000\n",
    "k = 5"
   ]
  },
  {
   "cell_type": "code",
   "execution_count": 3,
   "id": "26da88a6-4316-4c68-bd91-044e7cdfbc36",
   "metadata": {},
   "outputs": [],
   "source": [
    "faces = np.random.randint(0,n,(n,k))"
   ]
  },
  {
   "cell_type": "code",
   "execution_count": 4,
   "id": "e36b486d-c793-45c6-b91a-f8d0c1028b89",
   "metadata": {},
   "outputs": [
    {
     "data": {
      "text/plain": [
       "(500000, 5)"
      ]
     },
     "execution_count": 4,
     "metadata": {},
     "output_type": "execute_result"
    }
   ],
   "source": [
    "faces.shape"
   ]
  },
  {
   "cell_type": "code",
   "execution_count": 5,
   "id": "b7bb21ef-d4b8-4063-90bd-4f3d8c9d6a71",
   "metadata": {},
   "outputs": [],
   "source": [
    "num_edges_per_face = k "
   ]
  },
  {
   "cell_type": "code",
   "execution_count": 8,
   "id": "1da88955-e4c2-4bb5-8955-d2eb605c0676",
   "metadata": {},
   "outputs": [],
   "source": [
    "%load_ext memory_profiler"
   ]
  },
  {
   "cell_type": "code",
   "execution_count": 19,
   "id": "3b62d7fd-9893-4cf9-a487-3ed05b67c156",
   "metadata": {},
   "outputs": [
    {
     "name": "stdout",
     "output_type": "stream",
     "text": [
      "peak memory: 148.63 MiB, increment: 0.00 MiB\n"
     ]
    }
   ],
   "source": [
    "%%memit\n",
    "indices = np.stack(\n",
    "    [np.arange(num_edges_per_face), (np.arange(num_edges_per_face) + 1) % num_edges_per_face], \n",
    "    axis=1\n",
    ")\n",
    "\n",
    "# Use advanced indexing to select face pairs\n",
    "es = faces[:, indices].reshape(-1, 2)"
   ]
  },
  {
   "cell_type": "code",
   "execution_count": 22,
   "id": "78255cc0-20c1-4f55-99a2-f2b144f098da",
   "metadata": {},
   "outputs": [
    {
     "name": "stdout",
     "output_type": "stream",
     "text": [
      "peak memory: 148.58 MiB, increment: 0.00 MiB\n"
     ]
    }
   ],
   "source": [
    "%%memit\n",
    "es = np.concatenate( [\n",
    "                faces[:, [i, (i + 1) % num_edges_per_face]]\n",
    "                for i in range(num_edges_per_face)\n",
    "            ],\n",
    "            axis=0,\n",
    "        )\n"
   ]
  },
  {
   "cell_type": "code",
   "execution_count": 23,
   "id": "13a599b9-ded1-4660-8a8d-6a98569382f0",
   "metadata": {},
   "outputs": [],
   "source": [
    "target_vertices = np.arange(n)"
   ]
  },
  {
   "cell_type": "code",
   "execution_count": 26,
   "id": "e91e6804-b698-4ef0-888c-7c588c3fc32e",
   "metadata": {},
   "outputs": [
    {
     "name": "stdout",
     "output_type": "stream",
     "text": [
      "1.13 ms ± 23.9 μs per loop (mean ± std. dev. of 7 runs, 1,000 loops each)\n"
     ]
    }
   ],
   "source": [
    "%%timeit\n",
    "a = np.tile(target_vertices[:,None], [1,3])"
   ]
  },
  {
   "cell_type": "code",
   "execution_count": 25,
   "id": "21a85517-0762-43c2-a86f-2ae25eb3aa9f",
   "metadata": {},
   "outputs": [
    {
     "name": "stdout",
     "output_type": "stream",
     "text": [
      "1.25 ms ± 103 μs per loop (mean ± std. dev. of 7 runs, 1,000 loops each)\n"
     ]
    }
   ],
   "source": [
    "%%timeit\n",
    "repeated_arr = np.repeat(target_vertices[:, np.newaxis], 3, axis=1)"
   ]
  },
  {
   "cell_type": "code",
   "execution_count": 27,
   "id": "263446a5-a9ac-48fc-9b87-d361befc6a12",
   "metadata": {},
   "outputs": [
    {
     "name": "stdout",
     "output_type": "stream",
     "text": [
      "3.12 ms ± 170 μs per loop (mean ± std. dev. of 7 runs, 100 loops each)\n"
     ]
    }
   ],
   "source": [
    "%%timeit\n",
    "repeated_arr = np.stack([target_vertices]*3,axis=1)"
   ]
  },
  {
   "cell_type": "code",
   "execution_count": 28,
   "id": "a55153ae-0754-4b98-b5c6-38659cd7879e",
   "metadata": {},
   "outputs": [
    {
     "data": {
      "text/plain": [
       "(500000, 3)"
      ]
     },
     "execution_count": 28,
     "metadata": {},
     "output_type": "execute_result"
    }
   ],
   "source": [
    "repeated_arr = np.stack([target_vertices]*3,axis=1)\n",
    "repeated_arr.shape"
   ]
  },
  {
   "cell_type": "code",
   "execution_count": 34,
   "id": "54f1f7c4-e9ee-468d-a226-9f419d6b527d",
   "metadata": {},
   "outputs": [],
   "source": [
    "nearest_triangles = np.random.randint(0,n, (3,3))\n",
    "\n",
    "target_nodes = np.tile(np.arange(3)[:, None], (1, 3))\n",
    "res = np.stack(\n",
    "            [nearest_triangles[..., None], target_nodes[..., None]], axis=-1\n",
    "        ).reshape(-1, 2)\n"
   ]
  },
  {
   "cell_type": "code",
   "execution_count": 35,
   "id": "1f1023ad-6dbe-416a-9096-c98b16977cc8",
   "metadata": {},
   "outputs": [
    {
     "data": {
      "text/plain": [
       "array([[310133,  67769,   2770],\n",
       "       [ 48884, 167275, 180288],\n",
       "       [433041,  57137, 122329]])"
      ]
     },
     "execution_count": 35,
     "metadata": {},
     "output_type": "execute_result"
    }
   ],
   "source": [
    "nearest_triangles"
   ]
  },
  {
   "cell_type": "code",
   "execution_count": 36,
   "id": "50942dc6-8038-43de-a5d1-289a32573ddd",
   "metadata": {},
   "outputs": [
    {
     "data": {
      "text/plain": [
       "array([[0, 0, 0],\n",
       "       [1, 1, 1],\n",
       "       [2, 2, 2]])"
      ]
     },
     "execution_count": 36,
     "metadata": {},
     "output_type": "execute_result"
    }
   ],
   "source": [
    "target_nodes"
   ]
  },
  {
   "cell_type": "code",
   "execution_count": 37,
   "id": "042a3169-631c-4eb2-9084-547c02ed68a3",
   "metadata": {},
   "outputs": [
    {
     "data": {
      "text/plain": [
       "array([[310133,      0],\n",
       "       [ 67769,      0],\n",
       "       [  2770,      0],\n",
       "       [ 48884,      1],\n",
       "       [167275,      1],\n",
       "       [180288,      1],\n",
       "       [433041,      2],\n",
       "       [ 57137,      2],\n",
       "       [122329,      2]])"
      ]
     },
     "execution_count": 37,
     "metadata": {},
     "output_type": "execute_result"
    }
   ],
   "source": [
    "res"
   ]
  },
  {
   "cell_type": "code",
   "execution_count": null,
   "id": "a248e01d-73d3-45a3-9d43-d7b8a16762f8",
   "metadata": {},
   "outputs": [],
   "source": []
  }
 ],
 "metadata": {
  "kernelspec": {
   "display_name": "Python 3 (ipykernel)",
   "language": "python",
   "name": "python3"
  },
  "language_info": {
   "codemirror_mode": {
    "name": "ipython",
    "version": 3
   },
   "file_extension": ".py",
   "mimetype": "text/x-python",
   "name": "python",
   "nbconvert_exporter": "python",
   "pygments_lexer": "ipython3",
   "version": "3.12.8"
  },
  "widgets": {
   "application/vnd.jupyter.widget-state+json": {
    "state": {},
    "version_major": 2,
    "version_minor": 0
   }
  }
 },
 "nbformat": 4,
 "nbformat_minor": 5
}
